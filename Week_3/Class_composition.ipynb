{
 "cells": [
  {
   "cell_type": "markdown",
   "metadata": {},
   "source": [
    "\n",
    "## `Композиция классов`"
   ]
  },
  {
   "cell_type": "code",
   "execution_count": 235,
   "metadata": {},
   "outputs": [],
   "source": [
    "import json\n",
    "\n",
    "# теперь нам не нужно наследовать новые классы, если мы добавь новый экспортер\n",
    "\n",
    "class PetExport:\n",
    "    \n",
    "    def export(self, dog):\n",
    "        raise NotImplementedError\n",
    "        \n",
    "class ExportJSON(PetExport):\n",
    "    \n",
    "    def export(self, dog):\n",
    "        return json.dumps({\n",
    "            \"name\" : dog.name,\n",
    "            \"breed\" : dog.breed\n",
    "        })\n",
    "    \n",
    "class ExportXML(PetExport):\n",
    "    \n",
    "    def export(self, dog):\n",
    "        print(dog.breed)\n",
    "        return \"\"\"<?xml version=\"1.0\" encoding=\"utf-8\"?>\n",
    "<dog>\n",
    "    <name>{0}</>\n",
    "    <breed>{1}</breed>\n",
    "</dog>\n",
    "\"\"\".format(dog.name, dog.breed)\n",
    "    \n",
    "class Pet:\n",
    "    \n",
    "    def __init__(self, name):\n",
    "        self.name = name\n",
    "        \n",
    "class Dog(Pet):\n",
    "    \n",
    "    def __init__(self, name, breed=None):\n",
    "        super().__init__(name)\n",
    "        self.breed = breed\n",
    "        \n",
    "class ExDog(Dog): \n",
    "    \n",
    "    def __init__(self, name, breed=None, exporter=None):\n",
    "        super().__init__(name, breed)\n",
    "        self._exporter = exporter or ExportJSON()\n",
    "      \n",
    "        if not isinstance(self._exporter, PetExport):\n",
    "            raise ValueError(\"bad exporter\", exporter)\n",
    "            \n",
    "    def export(self):\n",
    "        return self._exporter.export(self)"
   ]
  },
  {
   "cell_type": "code",
   "execution_count": 236,
   "metadata": {},
   "outputs": [
    {
     "name": "stdout",
     "output_type": "stream",
     "text": [
      "Дворняга\n"
     ]
    },
    {
     "data": {
      "text/plain": [
       "'<?xml version=\"1.0\" encoding=\"utf-8\"?>\\n<dog>\\n    <name>Шарик</>\\n    <breed>Дворняга</breed>\\n</dog>\\n'"
      ]
     },
     "execution_count": 236,
     "metadata": {},
     "output_type": "execute_result"
    }
   ],
   "source": [
    "dog1 = ExDog(\"Шарик\",\"Дворняга\", exporter=ExportXML())\n",
    "dog1.export()"
   ]
  },
  {
   "cell_type": "code",
   "execution_count": 232,
   "metadata": {},
   "outputs": [
    {
     "data": {
      "text/plain": [
       "'{\"name\": \"\\\\u0428\\\\u0430\\\\u0440\\\\u0438\\\\u043a\", \"breed\": \"\\\\u0414\\\\u0432\\\\u043e\\\\u0440\\\\u043d\\\\u044f\\\\u0433\\\\u0430\"}'"
      ]
     },
     "execution_count": 232,
     "metadata": {},
     "output_type": "execute_result"
    }
   ],
   "source": [
    "dog1 = ExDog(\"Шарик\", \"Дворняга\")\n",
    "dog1.export()"
   ]
  },
  {
   "cell_type": "code",
   "execution_count": 188,
   "metadata": {},
   "outputs": [],
   "source": [
    "dog1.breed"
   ]
  },
  {
   "cell_type": "code",
   "execution_count": null,
   "metadata": {},
   "outputs": [],
   "source": []
  }
 ],
 "metadata": {
  "kernelspec": {
   "display_name": "Python 3",
   "language": "python",
   "name": "python3"
  },
  "language_info": {
   "codemirror_mode": {
    "name": "ipython",
    "version": 3
   },
   "file_extension": ".py",
   "mimetype": "text/x-python",
   "name": "python",
   "nbconvert_exporter": "python",
   "pygments_lexer": "ipython3",
   "version": "3.6.9"
  }
 },
 "nbformat": 4,
 "nbformat_minor": 4
}
