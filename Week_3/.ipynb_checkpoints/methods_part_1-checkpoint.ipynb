{
 "cells": [
  {
   "cell_type": "markdown",
   "metadata": {},
   "source": [
    "## `Методы`\n",
    "`Chapter one`\n",
    "\n",
    "**`Работа с методами обьекта`**"
   ]
  },
  {
   "cell_type": "code",
   "execution_count": 80,
   "metadata": {},
   "outputs": [],
   "source": [
    "class Human:\n",
    "    \n",
    "    def __init__(self, name, age=0):\n",
    "        self.name = name\n",
    "        self.age = age\n",
    "        \n",
    "class Planet:\n",
    "    \n",
    "    def __init__(self, name, population=None):\n",
    "        self.name = name\n",
    "        self.population = population or []\n",
    "        \n",
    "    def add_human(self, human):\n",
    "        print(f\"Hello! I\\'m {human.name} and I\\'m {human.age}.\")\n",
    "        print(f\"Welcome to {self.name}, {human.name}!\")\n",
    "        self.population.append(human)\n",
    "    "
   ]
  },
  {
   "cell_type": "code",
   "execution_count": 82,
   "metadata": {},
   "outputs": [
    {
     "name": "stdout",
     "output_type": "stream",
     "text": [
      "Hello! I'm Jeck and I'm 32.\n",
      "Welcome to Earth, Jeck!\n"
     ]
    }
   ],
   "source": [
    "earth = Planet(\"Earth\")\n",
    "\n",
    "jeck = Human(\"Jeck\", age=32)\n",
    "\n",
    "earth.add_human(jeck)"
   ]
  },
  {
   "cell_type": "code",
   "execution_count": 83,
   "metadata": {},
   "outputs": [
    {
     "name": "stdout",
     "output_type": "stream",
     "text": [
      "[<__main__.Human object at 0x7f66aa102eb8>]\n"
     ]
    }
   ],
   "source": [
    "print(earth.population)"
   ]
  },
  {
   "cell_type": "markdown",
   "metadata": {},
   "source": [
    "**`Вызов методов из методов`**"
   ]
  },
  {
   "cell_type": "code",
   "execution_count": 84,
   "metadata": {},
   "outputs": [],
   "source": [
    "class Human: \n",
    "    def __init__(self, name, age=0):\n",
    "        self._name = name\n",
    "        self._age = age\n",
    "        \n",
    "    def _say(self, text):\n",
    "        print(text)\n",
    "        \n",
    "    def say_name(self):\n",
    "        self._say(f\"Hello, I am {self._name}\")\n",
    "    \n",
    "    def say_how_old(self):\n",
    "        self._say(f\"I am {self._age} years ago\")\n",
    "    "
   ]
  },
  {
   "cell_type": "code",
   "execution_count": 85,
   "metadata": {},
   "outputs": [],
   "source": [
    "lola = Human(\"Lola\", age=26)"
   ]
  },
  {
   "cell_type": "code",
   "execution_count": 87,
   "metadata": {},
   "outputs": [
    {
     "name": "stdout",
     "output_type": "stream",
     "text": [
      "I am 26 years ago\n",
      "Hello, I am Lola\n"
     ]
    }
   ],
   "source": [
    "lola.say_how_old()\n",
    "lola.say_name()"
   ]
  },
  {
   "cell_type": "code",
   "execution_count": 89,
   "metadata": {},
   "outputs": [
    {
     "name": "stdout",
     "output_type": "stream",
     "text": [
      "Lola\n",
      "Whatever we want\n"
     ]
    }
   ],
   "source": [
    "# НЕ рекомендуется\n",
    "print(lola._name)\n",
    "# НЕ рекомендуется\n",
    "lola._say(\"Whatever we want\")"
   ]
  },
  {
   "cell_type": "markdown",
   "metadata": {},
   "source": [
    "**`Метод класса (@classmethod)`**"
   ]
  },
  {
   "cell_type": "code",
   "execution_count": 91,
   "metadata": {},
   "outputs": [],
   "source": [
    "class Event:\n",
    "    \n",
    "    def __init__(self, description, event_date):\n",
    "        self.description = description\n",
    "        self.date = event_date\n",
    "    \n",
    "    def __str__(self):\n",
    "        return f\"Event \\\"{self.description}\\\" at {self.date}\""
   ]
  },
  {
   "cell_type": "code",
   "execution_count": 100,
   "metadata": {},
   "outputs": [
    {
     "name": "stdout",
     "output_type": "stream",
     "text": [
      "Event \"Рассказать, что такое @classmethod\" at 2020-08-23\n"
     ]
    }
   ],
   "source": [
    "from datetime import date\n",
    "\n",
    "event_description = \"Рассказать, что такое @classmethod\"\n",
    "event_date = date.today()\n",
    "\n",
    "event = Event(event_description, event_date)\n",
    "print(event)"
   ]
  },
  {
   "cell_type": "code",
   "execution_count": 102,
   "metadata": {},
   "outputs": [],
   "source": [
    "# add @classmethod\n",
    "\n",
    "def extract_description(user_string):\n",
    "    return \"открытие чемпионата мира по футболу\"\n",
    "\n",
    "def extract_date(user_string):\n",
    "    return date(2018, 6, 14)\n",
    "\n",
    "class Event:\n",
    "    \n",
    "    def __init__(self, description, event_date):\n",
    "        self.description = description\n",
    "        self.date = event_date\n",
    "    \n",
    "    def __str__(self):\n",
    "        return f\"Event \\\"{self.description}\\\" at {self.date}\"\n",
    "    \n",
    "    @classmethod\n",
    "    def from_string(cls, user_input):\n",
    "        description = extract_description(user_input)\n",
    "        date = extract_date(user_input)\n",
    "        return cls(description, date)"
   ]
  },
  {
   "cell_type": "code",
   "execution_count": 104,
   "metadata": {},
   "outputs": [
    {
     "name": "stdout",
     "output_type": "stream",
     "text": [
      "Event \"открытие чемпионата мира по футболу\" at 2018-06-14\n"
     ]
    }
   ],
   "source": [
    "event = Event.from_string(\"добавь в мой календарь открытие чемпионата мира по футболу на 14 июня 2018 года\")\n",
    "print(event)"
   ]
  },
  {
   "cell_type": "code",
   "execution_count": 106,
   "metadata": {},
   "outputs": [
    {
     "data": {
      "text/plain": [
       "{'1': None, '2': None, '3': None, '4': None, '5': None}"
      ]
     },
     "execution_count": 106,
     "metadata": {},
     "output_type": "execute_result"
    }
   ],
   "source": [
    "dict.fromkeys(\"12345\") # fromkeys - это @classmethod для dict()"
   ]
  }
 ],
 "metadata": {
  "kernelspec": {
   "display_name": "Python 3",
   "language": "python",
   "name": "python3"
  },
  "language_info": {
   "codemirror_mode": {
    "name": "ipython",
    "version": 3
   },
   "file_extension": ".py",
   "mimetype": "text/x-python",
   "name": "python",
   "nbconvert_exporter": "python",
   "pygments_lexer": "ipython3",
   "version": "3.6.9"
  }
 },
 "nbformat": 4,
 "nbformat_minor": 4
}
