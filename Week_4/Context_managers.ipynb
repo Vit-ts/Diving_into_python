{
 "cells": [
  {
   "cell_type": "markdown",
   "metadata": {},
   "source": [
    "## `Контекстные менеджеры`"
   ]
  },
  {
   "cell_type": "code",
   "execution_count": null,
   "metadata": {},
   "outputs": [],
   "source": [
    "with open(filename, 'a') as f:\n",
    "    f.write('New Access')"
   ]
  },
  {
   "cell_type": "code",
   "execution_count": 1,
   "metadata": {},
   "outputs": [],
   "source": [
    "# определяем свой контекстный менеджер\n",
    "class open_file:\n",
    "    def __init__(self, filename, mode):\n",
    "        self.f = open(filename, mode)\n",
    "    \n",
    "    def __enter__(self):\n",
    "        return self.f\n",
    "    \n",
    "    def __exit__(self, *args):\n",
    "        self.f.close()"
   ]
  },
  {
   "cell_type": "code",
   "execution_count": 2,
   "metadata": {},
   "outputs": [],
   "source": [
    "with open_file('test.log', 'w') as f:\n",
    "    f.write('Inside `open_file`context manager')"
   ]
  },
  {
   "cell_type": "code",
   "execution_count": 3,
   "metadata": {},
   "outputs": [
    {
     "name": "stdout",
     "output_type": "stream",
     "text": [
      "Inside `open_file`context manager\n"
     ]
    }
   ],
   "source": [
    "with open_file('test.log', 'r') as f:\n",
    "    print(f.read())"
   ]
  },
  {
   "cell_type": "code",
   "execution_count": 4,
   "metadata": {},
   "outputs": [],
   "source": [
    "# есть возможность управлять исключениями \n",
    "\n",
    "class suppress_exception:\n",
    "    def __init__(self, exc_type):\n",
    "        self.exc_type = exc_type\n",
    "    \n",
    "    def __enter__(self):\n",
    "        return\n",
    "    \n",
    "    def __exit__(self, exc_type, exc_value, traceback):\n",
    "        if exc_type == self.exc_type:\n",
    "            print('Nothing happened')\n",
    "            return True"
   ]
  },
  {
   "cell_type": "code",
   "execution_count": 5,
   "metadata": {},
   "outputs": [
    {
     "name": "stdout",
     "output_type": "stream",
     "text": [
      "Nothing happened\n"
     ]
    }
   ],
   "source": [
    "with suppress_exception(ZeroDivisionError):\n",
    "    really_big_number = 1 / 0"
   ]
  },
  {
   "cell_type": "code",
   "execution_count": 7,
   "metadata": {},
   "outputs": [],
   "source": [
    "# такой клнтекстный менеджен уже естьь в библиотеке contextlib\n",
    "import contextlib\n",
    "\n",
    "with contextlib.suppress(ValueError):\n",
    "    raise ValueError"
   ]
  },
  {
   "cell_type": "code",
   "execution_count": 46,
   "metadata": {},
   "outputs": [
    {
     "name": "stdout",
     "output_type": "stream",
     "text": [
      "Current: 1.0011403560638428\n",
      "Elapsed: 2.0027647018432617\n"
     ]
    }
   ],
   "source": [
    "# контекстный менеджерб который считает и выводит время, проведенное внутри него\n",
    "import time\n",
    "\n",
    "class timer:\n",
    "    def __init__(self):\n",
    "        self.start = time.time()\n",
    "    \n",
    "    def current_time(self):\n",
    "        return time.time() - self.start\n",
    "    \n",
    "    def __enter__(self):\n",
    "        return self\n",
    "    \n",
    "    def __exit__(self, *args):\n",
    "        print('Elapsed: {}'.format(self.current_time()))\n",
    "        \n",
    "with timer() as t:\n",
    "    time.sleep(1)\n",
    "    print('Current: {}'.format(t.current_time()))\n",
    "    time.sleep(1)"
   ]
  }
 ],
 "metadata": {
  "kernelspec": {
   "display_name": "Python 3",
   "language": "python",
   "name": "python3"
  },
  "language_info": {
   "codemirror_mode": {
    "name": "ipython",
    "version": 3
   },
   "file_extension": ".py",
   "mimetype": "text/x-python",
   "name": "python",
   "nbconvert_exporter": "python",
   "pygments_lexer": "ipython3",
   "version": "3.6.9"
  }
 },
 "nbformat": 4,
 "nbformat_minor": 4
}
