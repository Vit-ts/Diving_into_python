{
 "cells": [
  {
   "cell_type": "markdown",
   "metadata": {},
   "source": [
    "### `Отладка`"
   ]
  },
  {
   "cell_type": "code",
   "execution_count": 31,
   "metadata": {},
   "outputs": [
    {
     "name": "stdout",
     "output_type": "stream",
     "text": [
      "\"github found 189 times in github.com\"\n"
     ]
    }
   ],
   "source": [
    "import requests\n",
    "import re\n",
    "\n",
    "def main(site_url, substring):\n",
    "    #import pdb\n",
    "    #pdb.set_trace()\n",
    "    \n",
    "    site_code = get_site_code(site_url)\n",
    "    matching_substring = get_matching_substring(site_code, substring)\n",
    "    print('\"{} found {} times in {}\"'.format(\n",
    "        substring, len(matching_substring), site_url\n",
    "    ))\n",
    "def get_site_code(site_url):\n",
    "    if not site_url.startswith('http'):\n",
    "        site_url = 'http://' + site_url\n",
    "    return requests.get(site_url).text\n",
    "\n",
    "def get_matching_substring(substring, source):\n",
    "    return re.findall(source, substring)\n",
    "\n",
    "main('github.com', 'github')"
   ]
  },
  {
   "cell_type": "markdown",
   "metadata": {},
   "source": [
    "## Работа в консоле\n",
    "### > python3 -m pdb filename.py"
   ]
  }
 ],
 "metadata": {
  "kernelspec": {
   "display_name": "Python 3",
   "language": "python",
   "name": "python3"
  },
  "language_info": {
   "codemirror_mode": {
    "name": "ipython",
    "version": 3
   },
   "file_extension": ".py",
   "mimetype": "text/x-python",
   "name": "python",
   "nbconvert_exporter": "python",
   "pygments_lexer": "ipython3",
   "version": "3.6.9"
  }
 },
 "nbformat": 4,
 "nbformat_minor": 4
}
