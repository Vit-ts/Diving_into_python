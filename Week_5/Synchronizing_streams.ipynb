{
 "cells": [
  {
   "cell_type": "markdown",
   "metadata": {},
   "source": [
    "### `Синхронизация потоков`"
   ]
  },
  {
   "cell_type": "code",
   "execution_count": null,
   "metadata": {},
   "outputs": [],
   "source": [
    "# Очереди, модуль queue\n",
    "\n",
    "from queue import Queue\n",
    "from threading import Thread\n",
    "\n",
    "def worker(q, n):\n",
    "    while True:\n",
    "        item = q.get()\n",
    "        if item is None:\n",
    "            break\n",
    "        print(\"preocess data: \", n, item)\n",
    "\n",
    "q = Queue(5) \n",
    "th1 = Thread(target=worker, args=(q, 1)) \n",
    "th2 = Thread(target=worker, args=(q, 2))\n",
    "th1.start(); th2.start()\n",
    "\n",
    "for i in range(10):\n",
    "    q.put(i)\n",
    "\n",
    "q.put(None); q.put(None)\n",
    "th1.join(); th2.join()"
   ]
  },
  {
   "attachments": {
    "image.png": {
     "image/png": "[encoded data removed]"
    }
   },
   "cell_type": "markdown",
   "metadata": {},
   "source": [
    "![image.png](attachment:image.png)"
   ]
  },
  {
   "cell_type": "code",
   "execution_count": 2,
   "metadata": {},
   "outputs": [
    {
     "data": {
      "text/plain": [
       "(15, 10)"
      ]
     },
     "execution_count": 2,
     "metadata": {},
     "output_type": "execute_result"
    }
   ],
   "source": [
    "# Синхронизация потоков, блокировки\n",
    "\n",
    "import threading\n",
    "\n",
    "class Point(object):\n",
    "    def __init__(self, x, y):\n",
    "        self.mutex = threading.RLock()\n",
    "        self.set(x, y)\n",
    "\n",
    "    def get(self):\n",
    "        with self.mutex:\n",
    "            return (self.x, self.y)\n",
    "\n",
    "    def set(self, x, y):\n",
    "        with self.mutex:\n",
    "            self.x = x\n",
    "            self.y = y\n",
    "# use in threads\n",
    "my_point = Point(10, 20)\n",
    "my_point.set(15, 10)\n",
    "my_point.get()"
   ]
  },
  {
   "cell_type": "code",
   "execution_count": null,
   "metadata": {},
   "outputs": [],
   "source": [
    "# 2)Синхронизация потоков, блокировки\n",
    "\n",
    "import threading\n",
    "\n",
    "a = threading.RLock()\n",
    "b = threading.RLock()\n",
    "    \n",
    "    \n",
    "def foo():\n",
    "    try: \n",
    "        a.acquire()\n",
    "        b.acquire()\n",
    "    finally:\n",
    "        a.release()\n",
    "        b.release()"
   ]
  },
  {
   "cell_type": "code",
   "execution_count": null,
   "metadata": {},
   "outputs": [],
   "source": [
    "# Синхронизация потоков, условные переменные \n",
    "\n",
    "class Queue(object):\n",
    "    def __init__(self, size=5):\n",
    "        self._size = size\n",
    "        self._queue = []\n",
    "        self._mutex = threading.Rlock()\n",
    "        self._empty = threading.Codition(self._mutex)\n",
    "        self._full = threading.Condition(self._mutex)\n",
    "        \n",
    "    def put(self, val):\n",
    "        with self._full:\n",
    "            while len(self._queue) >= self._size:\n",
    "                self._full.wait()\n",
    "                \n",
    "            self._queue.append(val)\n",
    "            self._empty.notify()\n",
    "    def get(self):\n",
    "        with self._empty:\n",
    "            while len(self._queue) == 0:\n",
    "                self._empty.wait()\n",
    "                \n",
    "            ret = self._queue.pop(0)\n",
    "            self._full.nitify()\n",
    "            return ret"
   ]
  }
 ],
 "metadata": {
  "kernelspec": {
   "display_name": "Python 3",
   "language": "python",
   "name": "python3"
  },
  "language_info": {
   "codemirror_mode": {
    "name": "ipython",
    "version": 3
   },
   "file_extension": ".py",
   "mimetype": "text/x-python",
   "name": "python",
   "nbconvert_exporter": "python",
   "pygments_lexer": "ipython3",
   "version": "3.6.9"
  }
 },
 "nbformat": 4,
 "nbformat_minor": 4
}
