{
 "cells": [
  {
   "cell_type": "markdown",
   "metadata": {},
   "source": [
    "## `Создание потоков`"
   ]
  },
  {
   "cell_type": "markdown",
   "metadata": {},
   "source": [
    "Создание потоков\n",
    "- Поток напоминает процесс\n",
    "- У потока своя последовательность инструкций\n",
    "- Каждый поток имеет собственный стек\n",
    "- Все потоки выполняются в рамках процесса \n",
    "- Потоки разделяют память и ресурсы процесса \n",
    "- Управлением выполнением потоков занимается ОС\n",
    "- Потоки в Python имеют свои ограничения"
   ]
  },
  {
   "cell_type": "code",
   "execution_count": 8,
   "metadata": {},
   "outputs": [
    {
     "name": "stdout",
     "output_type": "stream",
     "text": [
      "hello Bob\n"
     ]
    }
   ],
   "source": [
    "# Создание потока\n",
    "from threading import Thread\n",
    "\n",
    "def f(name):\n",
    "    print(\"hello\", name)\n",
    "    \n",
    "th = Thread(target=f, args=(\"Bob\",))\n",
    "th.start()\n",
    "th.join() # дожидаемся завершения всех созданых потоков"
   ]
  },
  {
   "cell_type": "code",
   "execution_count": 13,
   "metadata": {},
   "outputs": [
    {
     "name": "stdout",
     "output_type": "stream",
     "text": [
      "Hello Mike\n"
     ]
    }
   ],
   "source": [
    "# Создание потока (альтернативный метод при помощи наследования)\n",
    "from threading import Thread\n",
    "\n",
    "class PrintThread(Thread):\n",
    "    def __init__(self, name):\n",
    "        super().__init__()\n",
    "        self.name = name\n",
    "    def run(self):\n",
    "        print(\"Hello\", self.name)\n",
    "    \n",
    "th = PrintThread(\"Mike\")\n",
    "th.start()\n",
    "th.join() # дожидаемся завершения всех созданых потоков"
   ]
  },
  {
   "cell_type": "markdown",
   "metadata": {},
   "source": [
    "### Создание Пул потоков"
   ]
  },
  {
   "cell_type": "code",
   "execution_count": 54,
   "metadata": {},
   "outputs": [
    {
     "name": "stdout",
     "output_type": "stream",
     "text": [
      "1\n",
      "0\n",
      "4\n",
      "9\n",
      "16\n",
      "25\n",
      "36\n",
      "49\n",
      "64\n",
      "81\n",
      "work time: 0.030573368072509766\n"
     ]
    }
   ],
   "source": [
    "# Пул потоки, concurrent.futures.Future\n",
    "import time\n",
    "start = time.time()\n",
    "from concurrent.futures import ThreadPoolExecutor, as_completed\n",
    "\n",
    "def f(a):\n",
    "    return a * a\n",
    "\n",
    "# .shutdown() in exit\n",
    "# max_workers - max количество потоков\n",
    "with ThreadPoolExecutor(max_workers=2) as pool:\n",
    "    results = [pool.submit(f, i) for i in range(10)]\n",
    "    \n",
    "    for future in as_completed(results):\n",
    "        print(future.result())\n",
    "        \n",
    "\n",
    "print(\"work time: \" + str(time.time() - start))"
   ]
  }
 ],
 "metadata": {
  "kernelspec": {
   "display_name": "Python 3",
   "language": "python",
   "name": "python3"
  },
  "language_info": {
   "codemirror_mode": {
    "name": "ipython",
    "version": 3
   },
   "file_extension": ".py",
   "mimetype": "text/x-python",
   "name": "python",
   "nbconvert_exporter": "python",
   "pygments_lexer": "ipython3",
   "version": "3.6.9"
  }
 },
 "nbformat": 4,
 "nbformat_minor": 4
}
