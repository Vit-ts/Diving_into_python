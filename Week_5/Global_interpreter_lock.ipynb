{
 "cells": [
  {
   "cell_type": "markdown",
   "metadata": {},
   "source": [
    "### `Глобальная блокировка интерпретатора GIL`"
   ]
  },
  {
   "cell_type": "markdown",
   "metadata": {},
   "source": [
    "GIL защищает память интерпретатора от повреждений и делает операции атомарными.\n",
    "\n",
    "Поток, владеющий GIL, не отдает его пока об этом не попросят.\n",
    "Потоки засыпают на 5 мс. для ожидания GIL.\n",
    "Сам GIL устроен как обычная нерекурсивная блокировка. Эта же структура лежит в основе threading.Lock. \n",
    "\n",
    "Когда Python делает системный вызов или вызов из внешней библиотеки он отключает механизм GIL.\n",
    "После того как функция вернет управление снова включает его.\n",
    "\n",
    "Т.е. потоки при своем выполнении так или иначе вынуждены получать GIL.\n",
    "Именно поэтому многопоточные программы, требующие больших вычислений,\n",
    "могут выполняться медленней чем однопоточные."
   ]
  },
  {
   "cell_type": "code",
   "execution_count": 2,
   "metadata": {
    "scrolled": true
   },
   "outputs": [
    {
     "name": "stdout",
     "output_type": "stream",
     "text": [
      "0.00037860870361328125\n",
      "0.055442094802856445\n"
     ]
    }
   ],
   "source": [
    "# cpu bound programm\n",
    "from threading import Thread\n",
    "import time\n",
    "\n",
    "def count(n):\n",
    "    while n > 0:\n",
    "        n -= 1\n",
    "# series run\n",
    "t0 = time.time()\n",
    "count(100)\n",
    "count(100)\n",
    "print(time.time() - t0)\n",
    "\n",
    "# parallel run\n",
    "t0 = time.time()\n",
    "th1 = Thread(target=count, args=(100,))\n",
    "th2 = Thread(target=count, args=(100,))\n",
    "\n",
    "th1.start(); th2.start()\n",
    "th1.join(); th2.join()\n",
    "print(time.time() - t0)"
   ]
  }
 ],
 "metadata": {
  "kernelspec": {
   "display_name": "Python 3",
   "language": "python",
   "name": "python3"
  },
  "language_info": {
   "codemirror_mode": {
    "name": "ipython",
    "version": 3
   },
   "file_extension": ".py",
   "mimetype": "text/x-python",
   "name": "python",
   "nbconvert_exporter": "python",
   "pygments_lexer": "ipython3",
   "version": "3.6.9"
  }
 },
 "nbformat": 4,
 "nbformat_minor": 4
}
